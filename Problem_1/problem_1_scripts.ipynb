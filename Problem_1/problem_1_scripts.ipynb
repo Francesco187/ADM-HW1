{
 "cells": [
  {
   "cell_type": "markdown",
   "id": "d912dc7a-5415-4488-a40a-01d4914bd437",
   "metadata": {
    "tags": []
   },
   "source": [
    "# Problem 1"
   ]
  },
  {
   "cell_type": "markdown",
   "id": "b07f32cf-c287-4415-a67e-4f601373986a",
   "metadata": {},
   "source": [
    "* ## Introduction"
   ]
  },
  {
   "cell_type": "markdown",
   "id": "0861ce61-e4b1-4cc5-b81b-2f671d2748bb",
   "metadata": {},
   "source": [
    "1. #### Say \"Hello, World!\" With Python"
   ]
  },
  {
   "cell_type": "code",
   "execution_count": null,
   "id": "dcb39cbe-2f54-4eef-9c99-a07415cee89a",
   "metadata": {
    "tags": []
   },
   "outputs": [],
   "source": [
    "print(\"Hello, World!\")"
   ]
  },
  {
   "cell_type": "markdown",
   "id": "8d409ce9-aac0-4731-9c86-ab820912ba51",
   "metadata": {},
   "source": [
    "2. #### Python If-Else"
   ]
  },
  {
   "cell_type": "code",
   "execution_count": null,
   "id": "8f3de78b-a42d-4ad4-bc8e-2adea37813e8",
   "metadata": {
    "tags": []
   },
   "outputs": [],
   "source": [
    "n = int(input().strip())\n",
    "if n % 2 != 0:\n",
    "    print(\"Weird\")\n",
    "if n % 2 == 0:\n",
    "    if n >= 2 and n <= 5:\n",
    "        print(\"Not Weird\")\n",
    "    elif n >=6 and n <= 20:\n",
    "        print(\"Weird\")\n",
    "    elif n > 20:\n",
    "        print(\"Not Weird\")   "
   ]
  },
  {
   "cell_type": "markdown",
   "id": "0ffb2625-33f3-47d8-9799-b51c8b9480de",
   "metadata": {
    "tags": []
   },
   "source": [
    "3. #### Arithmetic Operators"
   ]
  },
  {
   "cell_type": "code",
   "execution_count": null,
   "id": "645a6262-d7ef-40c6-bd8f-0a80db882ced",
   "metadata": {
    "tags": []
   },
   "outputs": [],
   "source": [
    "a = int(input())\n",
    "b = int(input())\n",
    "    \n",
    "print(a+b)\n",
    "print(a-b)\n",
    "print(a*b)"
   ]
  },
  {
   "cell_type": "markdown",
   "id": "afeb1335-02f4-4c56-98b2-ef76f8c57409",
   "metadata": {},
   "source": [
    "4. #### Python: Division"
   ]
  },
  {
   "cell_type": "code",
   "execution_count": null,
   "id": "609ec7cc-2514-41ad-92e9-8d985d809af9",
   "metadata": {
    "tags": []
   },
   "outputs": [],
   "source": [
    "a = int(input())\n",
    "b = int(input())\n",
    "    \n",
    "print(a // b)\n",
    "print(a / b)"
   ]
  },
  {
   "cell_type": "markdown",
   "id": "fe38c957-3743-4c43-bee2-27aee01e4ecd",
   "metadata": {},
   "source": [
    "5. #### Loops"
   ]
  },
  {
   "cell_type": "code",
   "execution_count": null,
   "id": "3b880778-9910-4947-a50b-9ecf4a7c9a90",
   "metadata": {
    "tags": []
   },
   "outputs": [],
   "source": [
    "n = int(input())\n",
    "    \n",
    "for i in range(n):\n",
    "    print(i**2)"
   ]
  },
  {
   "cell_type": "markdown",
   "id": "3439ded8-dd57-425c-a14b-d8789495966f",
   "metadata": {},
   "source": [
    "6. #### Write a function"
   ]
  },
  {
   "cell_type": "code",
   "execution_count": null,
   "id": "758e2375-db3e-4b4a-a9f4-094a629081a9",
   "metadata": {
    "tags": []
   },
   "outputs": [],
   "source": [
    "def is_leap(year):\n",
    "    \n",
    "    leap = False\n",
    "    \n",
    "    if year % 4 == 0:\n",
    "        leap = True\n",
    "        \n",
    "    if year % 100 == 0:\n",
    "        leap = False\n",
    "        \n",
    "    if year % 400 == 0:\n",
    "        leap = True\n",
    "         \n",
    "    return leap\n",
    "\n",
    "year = int(input())\n",
    "print(is_leap(year))"
   ]
  },
  {
   "cell_type": "markdown",
   "id": "04e5369a-a951-4ee9-9ea5-34d0b17f2754",
   "metadata": {},
   "source": [
    "7. #### Print Function"
   ]
  },
  {
   "cell_type": "code",
   "execution_count": null,
   "id": "8d9fe5c4-1a18-4112-922b-52f16ac3ce8e",
   "metadata": {
    "tags": []
   },
   "outputs": [],
   "source": [
    "n = int(input())\n",
    "    \n",
    "for i in range(n):\n",
    "    print(i+1, end=\"\")"
   ]
  },
  {
   "cell_type": "markdown",
   "id": "d6d7e628-dc02-45e0-9a75-e35fbeb43bbb",
   "metadata": {},
   "source": [
    "* ## Data types"
   ]
  },
  {
   "cell_type": "markdown",
   "id": "afebae6b-c104-480f-aee6-dd7d7931d7b3",
   "metadata": {},
   "source": [
    "1. #### List Comprehensions"
   ]
  },
  {
   "cell_type": "code",
   "execution_count": null,
   "id": "aad00e3d-1ca2-4645-9f58-f9ef86528154",
   "metadata": {},
   "outputs": [],
   "source": [
    "x = int(input())\n",
    "y = int(input())\n",
    "z = int(input())\n",
    "n = int(input())\n",
    "\n",
    "list_out = [[i,j,k] for i in range(x+1) for j in range(y+1) for k in range(z+1) if i+j+k != n]\n",
    "\n",
    "print(list_out)"
   ]
  },
  {
   "cell_type": "markdown",
   "id": "44a493b1-95e0-4d50-ac5c-1b6dbed59af3",
   "metadata": {},
   "source": [
    "2. #### Find the Runner-Up Score!"
   ]
  },
  {
   "cell_type": "code",
   "execution_count": null,
   "id": "5fc24b70-95a3-4186-91eb-1ce45750cc02",
   "metadata": {
    "tags": []
   },
   "outputs": [],
   "source": [
    "n = int(input())\n",
    "arr = map(int, input().split())\n",
    "    \n",
    "list_arr = [x for x in arr]\n",
    "list_arr.sort()\n",
    "\n",
    "for i in range(n-1):\n",
    "    if list_arr[i+1] > list_arr[i]:\n",
    "        maximum = list_arr[i+1]\n",
    "        r_u_score = list_arr[i]\n",
    "\n",
    "print(r_u_score)"
   ]
  },
  {
   "cell_type": "markdown",
   "id": "081879cb-9aba-411c-b6ed-6f1390c6d4e8",
   "metadata": {},
   "source": [
    "3. #### Nested Lists"
   ]
  },
  {
   "cell_type": "code",
   "execution_count": null,
   "id": "84788cdc-e3db-4ffa-9b50-89e4509310fc",
   "metadata": {},
   "outputs": [],
   "source": [
    "for _ in range(int(input())):\n",
    "        name = input()\n",
    "        score = float(input())\n",
    "        s_g.append([name,score])\n",
    "\n",
    "s = []\n",
    "g = []\n",
    "\n",
    "for i in range(len(s_g)):\n",
    "    g.append(s_g[i][1]) \n",
    "\n",
    "g.sort(reverse = True)\n",
    "\n",
    "for i in range(len(g)-1):\n",
    "    if g[i+1] < g[i]:\n",
    "        s_l = g[i]\n",
    "\n",
    "for i in range(len(s_g)):\n",
    "    if s_g[i][1] == s_l:\n",
    "        s.append(s_g[i][0])\n",
    "\n",
    "s.sort()\n",
    "\n",
    "for i in range(len(s)):\n",
    "    print(s[i])"
   ]
  },
  {
   "cell_type": "markdown",
   "id": "593309fc-7c6c-4b40-ad4f-2941a2d76f84",
   "metadata": {},
   "source": [
    "4. #### Finding the percentage"
   ]
  },
  {
   "cell_type": "code",
   "execution_count": null,
   "id": "22c53338-7ffa-4db0-8777-2a2c9da9074c",
   "metadata": {
    "tags": []
   },
   "outputs": [],
   "source": [
    "n = int(input())\n",
    "student_marks = {}\n",
    "for _ in range(n):\n",
    "    name, *line = input().split()\n",
    "    scores = list(map(float, line))\n",
    "    student_marks[name] = scores\n",
    "query_name = input()\n",
    "\n",
    "average = 0\n",
    "\n",
    "for i in range(len(student_marks[query_name])):\n",
    "    average += student_marks[query_name][i]\n",
    "\n",
    "average = average/(len(student_marks[query_name]))\n",
    "print(\"%.2f\" % average)"
   ]
  },
  {
   "cell_type": "markdown",
   "id": "4cc2b9ba-879f-479f-8afb-2ff4e5902a2e",
   "metadata": {},
   "source": [
    "5. #### Lists"
   ]
  },
  {
   "cell_type": "code",
   "execution_count": null,
   "id": "9540a717-d8a7-42ea-bc9c-f878ec15e8aa",
   "metadata": {},
   "outputs": [],
   "source": [
    "N = int(input())\n",
    "    \n",
    "l = []\n",
    "   \n",
    "for i in range(N):\n",
    "    command = input().split(' ')\n",
    "    if command[0] == 'insert':\n",
    "        l.insert(int(command[1]),int(command[2]))\n",
    "    elif command[0] == 'print':\n",
    "        print(l)\n",
    "    elif command[0] == 'remove':\n",
    "        l.remove(int(command[1]))\n",
    "    elif command[0] == 'append':\n",
    "        l.append(int(command[1]))\n",
    "    elif command[0] == 'sort':\n",
    "        l.sort()\n",
    "    elif command[0] == 'pop':\n",
    "        l.pop()\n",
    "    elif command[0] == 'reverse':\n",
    "        l.reverse()"
   ]
  },
  {
   "cell_type": "markdown",
   "id": "c43e6832-b40f-4c26-925e-111f2a960ba6",
   "metadata": {},
   "source": [
    "6. #### Tuples"
   ]
  },
  {
   "cell_type": "code",
   "execution_count": null,
   "id": "3c1173ae-c14b-4437-abfe-d09b97967ad5",
   "metadata": {},
   "outputs": [],
   "source": [
    "n = int(input())\n",
    "integer_list = map(int, input().split())\n",
    "t = tuple(integer_list)\n",
    "print(hash(t))"
   ]
  },
  {
   "cell_type": "markdown",
   "id": "166a93fd-7c6c-4cdf-879d-0416615600e6",
   "metadata": {},
   "source": [
    "* ## Strings"
   ]
  },
  {
   "cell_type": "markdown",
   "id": "5bd29e42-07c0-4c64-8f21-b5d96d72a6da",
   "metadata": {},
   "source": [
    "1. #### sWAP cASE"
   ]
  },
  {
   "cell_type": "code",
   "execution_count": null,
   "id": "f67c3710-d072-4994-8538-cbbb501d53ec",
   "metadata": {
    "tags": []
   },
   "outputs": [],
   "source": [
    "def swap_case(s):\n",
    "    new_s = ''\n",
    "    for c in s:\n",
    "        if c.isupper() == True:\n",
    "            new_s += c.lower()\n",
    "        elif c.islower() == True:\n",
    "            new_s += c.upper()\n",
    "        else:\n",
    "            new_s += c\n",
    "    return new_s\n",
    "\n",
    "s = input()\n",
    "result = swap_case(s)\n",
    "print(result)"
   ]
  },
  {
   "cell_type": "markdown",
   "id": "74fc8cc9-37b6-4b7e-9998-8c59fd934968",
   "metadata": {
    "tags": []
   },
   "source": [
    "2. #### String Split and Join"
   ]
  },
  {
   "cell_type": "code",
   "execution_count": null,
   "id": "d34f23fb-3b53-482b-ad54-f005f8c99942",
   "metadata": {
    "tags": []
   },
   "outputs": [],
   "source": [
    "def split_and_join(line):\n",
    "    s_line = line.split(\" \")\n",
    "    j_line = \"-\".join(s_line)\n",
    "    return j_line\n",
    "    \n",
    "line = input()\n",
    "result = split_and_join(line)\n",
    "print(result)"
   ]
  },
  {
   "cell_type": "markdown",
   "id": "f5a8dc01-b88a-4872-8581-b7af9fdc39b6",
   "metadata": {
    "tags": []
   },
   "source": [
    "3. #### What's Your Name?"
   ]
  },
  {
   "cell_type": "code",
   "execution_count": null,
   "id": "c710ffb2-400e-459e-b399-e6dce9012ccb",
   "metadata": {
    "tags": []
   },
   "outputs": [],
   "source": [
    "def print_full_name(first, last):\n",
    "    print('Hello '+first+' '+last+'! You just delved into python.')\n",
    "    \n",
    "first_name = input()\n",
    "last_name = input()\n",
    "print_full_name(first_name, last_name)"
   ]
  },
  {
   "cell_type": "markdown",
   "id": "515d1431-75f1-4539-b9ae-2461f9acc200",
   "metadata": {},
   "source": [
    "4. #### Mutations"
   ]
  },
  {
   "cell_type": "code",
   "execution_count": null,
   "id": "3e86e03a-64a9-4d97-bce4-3b4f3f0204d0",
   "metadata": {
    "tags": []
   },
   "outputs": [],
   "source": [
    "def mutate_string(string, position, character):\n",
    "    l_string = list(string)\n",
    "    l_string[position] = character\n",
    "    mut_string = \"\".join(l_string)\n",
    "    return mut_string\n",
    "\n",
    "s = input()\n",
    "i, c = input().split()\n",
    "s_new = mutate_string(s, int(i), c)\n",
    "print(s_new)"
   ]
  },
  {
   "cell_type": "markdown",
   "id": "a1c69931-6bbf-4607-a557-1d021c50d2ac",
   "metadata": {},
   "source": [
    "5. #### Find a string"
   ]
  },
  {
   "cell_type": "code",
   "execution_count": null,
   "id": "c7399d7d-2cfd-409b-8558-781ea5eab834",
   "metadata": {
    "tags": []
   },
   "outputs": [],
   "source": [
    "def count_substring(string, sub_string):\n",
    "    count = 0\n",
    "    for i in range(len(string)-len(sub_string)+1):\n",
    "        if string[i:i+len(sub_string)] == sub_string:\n",
    "            count += 1\n",
    "    return count\n",
    "\n",
    "string = input().strip()\n",
    "sub_string = input().strip()\n",
    "    \n",
    "count = count_substring(string, sub_string)\n",
    "print(count)"
   ]
  },
  {
   "cell_type": "markdown",
   "id": "f62127fb-95d1-40b3-a8dd-012395b38332",
   "metadata": {},
   "source": [
    "6. #### String Validators"
   ]
  },
  {
   "cell_type": "code",
   "execution_count": null,
   "id": "285dd2b6-ee6b-4641-9c70-680c7b659de1",
   "metadata": {},
   "outputs": [],
   "source": [
    "s = input()\n",
    "\n",
    "print(any([i.isalnum() for i in s]))\n",
    "print(any([i.isalpha() for i in s]))\n",
    "print(any([i.isdigit() for i in s]))\n",
    "print(any([i.islower() for i in s]))\n",
    "print(any([i.isupper() for i in s]))"
   ]
  },
  {
   "cell_type": "markdown",
   "id": "490663b5-3983-4431-b38f-f98eaf72d3bd",
   "metadata": {},
   "source": [
    "7. #### Text Alignment"
   ]
  },
  {
   "cell_type": "code",
   "execution_count": null,
   "id": "8a3d3467-5554-448d-b0b6-1a4f8f58c34c",
   "metadata": {},
   "outputs": [],
   "source": [
    "width = int(input())\n",
    "x = (width*2)-1\n",
    "H = 'H'\n",
    "\n",
    "for i in range(width):\n",
    "    H = H*(2*i+1)\n",
    "    print(H.center(x))\n",
    "    H = 'H'\n",
    "    \n",
    "for i in range(width+1):\n",
    "    H = H*width\n",
    "    print(H.rjust(width+width//2)+H.rjust(4*width))\n",
    "    H = 'H'\n",
    "    \n",
    "for i in range(width//2+1):\n",
    "    H = H*width*5\n",
    "    print(H.rjust(5*width+width//2))\n",
    "    H = 'H'\n",
    "    \n",
    "for i in range(width+1):\n",
    "    H = H*width\n",
    "    print(H.rjust(width+width//2)+H.rjust(4*width))\n",
    "    H = 'H'\n",
    "\n",
    "for i in reversed(range(width)):\n",
    "    H = H*(2*i+1)\n",
    "    H_center = H.center(x+1)\n",
    "    print(H_center.rjust(width*6))\n",
    "    H = 'H'"
   ]
  },
  {
   "cell_type": "markdown",
   "id": "f458992f-bb1b-45db-ae15-5c68c5818802",
   "metadata": {},
   "source": [
    "8. #### Text Wrap"
   ]
  },
  {
   "cell_type": "code",
   "execution_count": null,
   "id": "c092db17-e0cf-419e-a6fb-be492031918a",
   "metadata": {},
   "outputs": [],
   "source": [
    "import textwrap\n",
    "\n",
    "def wrap(string, max_width):\n",
    "    return textwrap.fill(string,max_width)\n",
    "\n",
    "string, max_width = input(), int(input())\n",
    "result = wrap(string, max_width)\n",
    "print(result)"
   ]
  },
  {
   "cell_type": "markdown",
   "id": "9ffd7a5e-a9c4-4dc8-b575-74daea236472",
   "metadata": {},
   "source": [
    "9. #### Designer Door Mat"
   ]
  },
  {
   "cell_type": "code",
   "execution_count": null,
   "id": "06952242-a778-4284-bfab-9ab97074ae92",
   "metadata": {
    "tags": []
   },
   "outputs": [],
   "source": [
    "N, M = map(int, input().split())\n",
    "\n",
    "for i in range(N//2):\n",
    "    s = '.|.'*(2*i+1)\n",
    "    print(s.center(M,'-'))\n",
    "    \n",
    "print('WELCOME'.center(M,'-'))\n",
    "\n",
    "for i in reversed(range(N//2)):\n",
    "    s = '.|.'*(2*i+1)\n",
    "    print(s.center(M,'-'))"
   ]
  },
  {
   "cell_type": "markdown",
   "id": "1fcb5b88-60c9-4ddd-8009-c942f0e799d1",
   "metadata": {},
   "source": [
    "10. #### String Formatting"
   ]
  },
  {
   "cell_type": "code",
   "execution_count": null,
   "id": "d4d7986e-25e1-4f29-be44-1384deb2dd7d",
   "metadata": {
    "tags": []
   },
   "outputs": [],
   "source": [
    "def print_formatted(number):\n",
    "    \n",
    "    w = len(bin(number)[2:])\n",
    "\n",
    "    for i in range(number):\n",
    "        \n",
    "        x = i+1\n",
    "        d = str(x)\n",
    "        o = oct(x)[2:]\n",
    "        he = hex(x)[2:].upper()\n",
    "        b = bin(x)[2:]\n",
    "    \n",
    "        print(d.rjust(w),o.rjust(w),he.rjust(w),b.rjust(w))\n",
    "\n",
    "n = int(input())\n",
    "print_formatted(n)"
   ]
  },
  {
   "cell_type": "markdown",
   "id": "47169b3a-074c-4cd4-853e-c5fa63bfbfe0",
   "metadata": {},
   "source": [
    "11. #### Alphabet Rangoli"
   ]
  },
  {
   "cell_type": "code",
   "execution_count": null,
   "id": "d20a19a6-2df0-4ae4-b747-e6eceefa5117",
   "metadata": {
    "tags": []
   },
   "outputs": [],
   "source": [
    "def print_rangoli(size):\n",
    "    ab = 'abcdefghijklmnopqrstuvwxyz'\n",
    "\n",
    "    x = 2*(size-1)\n",
    "\n",
    "    for i in range(size):              \n",
    "        if i == 0:\n",
    "            for e in range(x):\n",
    "                print('-',end='')\n",
    "            \n",
    "            print(ab[size-1],end='')\n",
    "        \n",
    "            for g in range(x):\n",
    "                print('-',end='')\n",
    "            print(end='\\n')\n",
    "            x -=2\n",
    "        else:\n",
    "            for e in range(x):\n",
    "                print('-', end='')\n",
    "            for g in range(i+1):                              \n",
    "                print(ab[size-1-g]+'-', end='')\n",
    "            for t in reversed(range(i)):\n",
    "                if t == 0:\n",
    "                    print(ab[size-1-t],end='')\n",
    "                else:\n",
    "                    print(ab[size-1-t]+'-',end='')\n",
    "            for g in range(x):\n",
    "                print('-',end='')\n",
    "            print(end='\\n')\n",
    "            x -= 2\n",
    "        \n",
    "    x = 2\n",
    "        \n",
    "    for i in reversed(range(size-1)):\n",
    "    \n",
    "        if i == 0:\n",
    "            for e in range(x):\n",
    "                print('-',end='')\n",
    "            \n",
    "            print(ab[size-1],end='')\n",
    "        \n",
    "            for g in range(x):\n",
    "                print('-',end='')                        \n",
    "            print(end='\\n')                               \n",
    "            x +=2\n",
    "        else:\n",
    "            for e in range(x):\n",
    "                print('-', end='')\n",
    "            for g in range(i+1):\n",
    "                print(ab[size-1-g]+'-', end='')\n",
    "            for t in reversed(range(i)):\n",
    "                if t == 0:\n",
    "                    print(ab[size-1-t],end='')\n",
    "                else:\n",
    "                    print(ab[size-1-t]+'-',end='')\n",
    "            for g in range(x):\n",
    "                print('-',end='')\n",
    "            print(end='\\n')\n",
    "            x += 2\n",
    "\n",
    "n = int(input())\n",
    "print_rangoli(n)"
   ]
  },
  {
   "cell_type": "markdown",
   "id": "d69eb282-056a-485c-bb41-d779de9ae27f",
   "metadata": {},
   "source": [
    "12. #### Capitalize!"
   ]
  },
  {
   "cell_type": "code",
   "execution_count": null,
   "id": "2f21f4d3-62a5-408f-8058-f3d6a37e1b16",
   "metadata": {},
   "outputs": [],
   "source": [
    "def solve(s):\n",
    "    result = ''\n",
    "\n",
    "    for i in range(len(s)):\n",
    "        if i == 0 and s[0].islower() == True:\n",
    "            result += s[0].upper() \n",
    "        elif s[i] == ' ':\n",
    "            result += ' '\n",
    "        elif s[i].islower() == True and s[i-1] == ' ':\n",
    "            result += s[i].upper()\n",
    "        else:\n",
    "            result += s[i]\n",
    "    print(result)\n",
    "\n",
    "s = str(input())\n",
    "solve(s)"
   ]
  },
  {
   "cell_type": "markdown",
   "id": "fc6317d8-f099-4032-83f4-07306c2cd1be",
   "metadata": {},
   "source": [
    "13. #### The Minion Game"
   ]
  },
  {
   "cell_type": "code",
   "execution_count": null,
   "id": "3a2b5d6f-facf-40e6-bc14-ce0164dcf8d6",
   "metadata": {},
   "outputs": [],
   "source": [
    "def minion_game(string):\n",
    "    \n",
    "    v = 'AEIOU'\n",
    "    stuart = 0  \n",
    "    kevin = 0   \n",
    "\n",
    "    for i in range(len(s)):\n",
    "        if s[i] in v:\n",
    "            kevin += len(s) - i\n",
    "        else:\n",
    "            stuart += len(s) -i\n",
    "\n",
    "    if kevin > stuart:\n",
    "        print('Kevin '+str(kevin))\n",
    "    elif stuart > kevin:\n",
    "        print('Stuart '+str(stuart))\n",
    "    else:\n",
    "        print('Draw')\n",
    "    \n",
    "s = input()\n",
    "minion_game(s)    "
   ]
  },
  {
   "cell_type": "markdown",
   "id": "fe981381-8121-4d03-8f97-c05117a61531",
   "metadata": {},
   "source": [
    "14. #### Merge the Tools"
   ]
  },
  {
   "cell_type": "code",
   "execution_count": null,
   "id": "ccfd3a78-c381-4a24-bea1-103a87d1a723",
   "metadata": {},
   "outputs": [],
   "source": [
    "def merge_the_tools(string, k):\n",
    "    \n",
    "    l = []\n",
    "    m = ''\n",
    "\n",
    "    for i in range(0,len(string),k):\n",
    "        l.append(string[i:i+k])\n",
    "\n",
    "    for j in l:\n",
    "        m += j[0]\n",
    "        for e in range(1,k):\n",
    "            if j[e] not in m:\n",
    "                m += j[e]\n",
    "        print(m)\n",
    "        m = ''\n",
    "\n",
    "string, k = input(), int(input())\n",
    "merge_the_tools(string, k)\n"
   ]
  },
  {
   "cell_type": "markdown",
   "id": "b096bb58-23da-43dd-8efc-c981eda7ca61",
   "metadata": {},
   "source": [
    "* ## Sets"
   ]
  },
  {
   "cell_type": "markdown",
   "id": "4016da62-cdee-45ad-be01-c14ceb7a39ff",
   "metadata": {
    "tags": []
   },
   "source": [
    "1. #### Introduction to Sets"
   ]
  },
  {
   "cell_type": "code",
   "execution_count": null,
   "id": "7415e5f3-5d34-414c-9f99-c97b8b2accc4",
   "metadata": {
    "tags": []
   },
   "outputs": [],
   "source": [
    "def average(array):\n",
    "    s_a = set(array)\n",
    "    average = sum(s_a)/len(s_a)\n",
    "    return round(average,3)\n",
    "    \n",
    "n = int(input())\n",
    "arr = list(map(int, input().split()))\n",
    "result = average(arr)\n",
    "print(result)"
   ]
  },
  {
   "cell_type": "markdown",
   "id": "30cb1b1e-cdec-41df-9383-8331412b5c6c",
   "metadata": {
    "tags": []
   },
   "source": [
    "2. #### Symmetric Difference"
   ]
  },
  {
   "cell_type": "code",
   "execution_count": null,
   "id": "815386dc-2304-49e7-83c9-7fa345de8d28",
   "metadata": {
    "tags": []
   },
   "outputs": [],
   "source": [
    "N = int(input())\n",
    "s_a = set(map(int, input().split()))\n",
    "M = int(input())\n",
    "s_b = set(map(int, input().split()))\n",
    "\n",
    "l = []\n",
    "\n",
    "for i in s_a.difference(s_b):\n",
    "    l.append(i)\n",
    "for e in s_b.difference(s_a):\n",
    "    l.append(e)\n",
    "    \n",
    "l.sort()\n",
    "\n",
    "for t in l:\n",
    "    print(t)"
   ]
  },
  {
   "cell_type": "markdown",
   "id": "0df4e722-7ca0-4c36-add8-7a867ac012f1",
   "metadata": {
    "tags": []
   },
   "source": [
    "3. #### No Idea!"
   ]
  },
  {
   "cell_type": "code",
   "execution_count": null,
   "id": "f54d3324-9b61-4a2b-add1-b6f33044704f",
   "metadata": {},
   "outputs": [],
   "source": [
    "n, m = map(int, input().split())\n",
    "arr = list(map(int, input().split()))\n",
    "a = set(map(int, input().split()))\n",
    "b = set(map(int, input().split()))\n",
    "happ = 0\n",
    "\n",
    "for i in arr:\n",
    "    if i in a:\n",
    "        happ += 1\n",
    "    elif i in b:\n",
    "        happ -= 1\n",
    "\n",
    "print(happ)"
   ]
  },
  {
   "cell_type": "markdown",
   "id": "b4722b3a-dfb1-4da6-a735-4f6f4852c852",
   "metadata": {},
   "source": [
    "4. #### Set.add()"
   ]
  },
  {
   "cell_type": "code",
   "execution_count": null,
   "id": "adb3d471-b93d-4fb0-aa5b-2d47747164f8",
   "metadata": {
    "tags": []
   },
   "outputs": [],
   "source": [
    "N = int(input())\n",
    "countries = set()\n",
    "\n",
    "for i in range(N):\n",
    "    countries.add(input())\n",
    "\n",
    "print(len(countries))"
   ]
  },
  {
   "cell_type": "markdown",
   "id": "f3f08ca6-7c01-4d43-9c05-d472b991a290",
   "metadata": {},
   "source": [
    "5. #### Set.discard(), .remove() & .pop()"
   ]
  },
  {
   "cell_type": "code",
   "execution_count": null,
   "id": "e302dbaa-c914-478e-aaf3-fb912dd07ee0",
   "metadata": {
    "tags": []
   },
   "outputs": [],
   "source": [
    "n = int(input())\n",
    "s = set(map(int, input().split()))\n",
    "N = int(input())\n",
    "for i in range(N):\n",
    "    command = input().split()\n",
    "    \n",
    "    if command[0] == 'discard':\n",
    "        s.discard(int(command[1]))\n",
    "    elif command[0] == 'remove':\n",
    "        s.remove(int(command[1]))\n",
    "    elif command[0] == 'pop':\n",
    "        s.pop()\n",
    "        \n",
    "print(sum(s))"
   ]
  },
  {
   "cell_type": "markdown",
   "id": "b52a3fb7-c589-4eb2-8460-5a0c20c4eb5b",
   "metadata": {
    "tags": []
   },
   "source": [
    "6. #### Set.union() Operation"
   ]
  },
  {
   "cell_type": "code",
   "execution_count": null,
   "id": "c66aa013-faab-475f-8052-19b8bb2c3564",
   "metadata": {},
   "outputs": [],
   "source": [
    "n = int(input())\n",
    "s_n = set(map(int,input().split()))\n",
    "b = int(input())\n",
    "s_b = set(map(int, input().split()))\n",
    "\n",
    "print(len(s_n.union(s_b)))"
   ]
  },
  {
   "cell_type": "markdown",
   "id": "6c28ecfc-5694-4979-bd05-579329091483",
   "metadata": {},
   "source": [
    "7. #### Set.intersection() Operation"
   ]
  },
  {
   "cell_type": "code",
   "execution_count": null,
   "id": "39d88eec-98b9-4390-97bf-3b695661379a",
   "metadata": {},
   "outputs": [],
   "source": [
    "n = int(input())\n",
    "s_n = set(map(int,input().split()))\n",
    "b = int(input())\n",
    "s_b = set(map(int, input().split()))\n",
    "\n",
    "print(len(s_n.intersection(s_b)))"
   ]
  },
  {
   "cell_type": "markdown",
   "id": "a2d52060-ca43-4c90-bfd9-fbac824bdab1",
   "metadata": {},
   "source": [
    "8. #### Set.difference() Operation"
   ]
  },
  {
   "cell_type": "code",
   "execution_count": null,
   "id": "2c893b4c-f6d5-44aa-a5ab-34585bdca9e3",
   "metadata": {},
   "outputs": [],
   "source": [
    "n = int(input())\n",
    "s_n = set(map(int,input().split()))\n",
    "b = int(input())\n",
    "s_b = set(map(int, input().split()))\n",
    "\n",
    "print(len(s_n.difference(s_b)))"
   ]
  },
  {
   "cell_type": "markdown",
   "id": "f477c68b-d69c-454e-8c30-54061dcc23f0",
   "metadata": {},
   "source": [
    "9. #### Set.symmetric_difference() Operation"
   ]
  },
  {
   "cell_type": "code",
   "execution_count": null,
   "id": "6a9f1ade-87eb-408b-afdf-0ad4fc74844a",
   "metadata": {
    "tags": []
   },
   "outputs": [],
   "source": [
    "n = int(input())\n",
    "s_n = set(map(int,input().split()))\n",
    "b = int(input())\n",
    "s_b = set(map(int, input().split()))\n",
    "\n",
    "print(len(s_n.symmetric_difference(s_b)))"
   ]
  },
  {
   "cell_type": "markdown",
   "id": "73c90855-ba3c-4666-95ae-3b46273c2940",
   "metadata": {},
   "source": [
    "10. #### Set Mutations"
   ]
  },
  {
   "cell_type": "code",
   "execution_count": null,
   "id": "08095ac2-5310-4c3b-9051-f4d55677532d",
   "metadata": {},
   "outputs": [],
   "source": [
    "n = int(input())\n",
    "A = set(map(int, input().split()))\n",
    "N = int(input())\n",
    "\n",
    "for i in range(N):\n",
    "    t = list(map(str, input().split()))\n",
    "    B = set(map(int, input().split()))\n",
    "    \n",
    "    if t[0] == 'intersection_update':\n",
    "        A.intersection_update(B)\n",
    "    elif t[0] == 'update':\n",
    "        A.update(B)\n",
    "    elif t[0] == 'symmetric_difference_update':\n",
    "        A.symmetric_difference_update(B)\n",
    "    elif t[0] == 'difference_update':\n",
    "        A.difference_update(B)\n",
    "\n",
    "s_A = sum(A)\n",
    "print(s_A)\n"
   ]
  },
  {
   "cell_type": "markdown",
   "id": "0b5573ce-5e88-4069-953f-6a2b6d614840",
   "metadata": {},
   "source": [
    "11. #### The Captain's Room"
   ]
  },
  {
   "cell_type": "code",
   "execution_count": null,
   "id": "2e60de5f-0f8f-425b-aef9-e26887260ba4",
   "metadata": {},
   "outputs": [],
   "source": [
    "K = int(input())\n",
    "r_n = list(map(int, input().split()))\n",
    "s_r_n = set(r_n)\n",
    "\n",
    "for i in s_r_n:\n",
    "    r_n.remove(i)\n",
    "\n",
    "c_r = s_r_n.difference(set(r_n))\n",
    "print(sum(c_r))"
   ]
  },
  {
   "cell_type": "markdown",
   "id": "6bccd95b-c74c-46be-9e8c-bf489186e6d2",
   "metadata": {},
   "source": [
    "12. #### Check Subset"
   ]
  },
  {
   "cell_type": "code",
   "execution_count": null,
   "id": "014f51eb-3b8a-45f7-a7c6-db5f731f27f7",
   "metadata": {},
   "outputs": [],
   "source": [
    "T = int(input())\n",
    "\n",
    "for i in range(T):\n",
    "    n_A = int(input())\n",
    "    A = set(map(int, input().split()))\n",
    "    n_B = int(input())\n",
    "    B = set(map(int, input().split()))\n",
    "    \n",
    "    if A.union(B) == B:\n",
    "        print(True)\n",
    "    else:\n",
    "        print(False)"
   ]
  },
  {
   "cell_type": "markdown",
   "id": "e33ff468-b797-4f82-b49d-1642a54f5b31",
   "metadata": {},
   "source": [
    "13. #### Check Strict Superset"
   ]
  },
  {
   "cell_type": "code",
   "execution_count": null,
   "id": "25a6457b-540e-4965-b6c9-539dd8250750",
   "metadata": {},
   "outputs": [],
   "source": [
    "A = set(map(int, input().split()))\n",
    "n = int(input())\n",
    "count = 0\n",
    "\n",
    "for i in range(n):\n",
    "    B = set(map(int, input().split()))\n",
    "    if len(A) > len(B) and len(A.intersection(B)) == len(B):\n",
    "        count += 1\n",
    "    \n",
    "if count == n:\n",
    "    print(True)\n",
    "else:\n",
    "    print(False)"
   ]
  },
  {
   "cell_type": "markdown",
   "id": "a07d3f31-2a96-4dd3-a39c-2a2717ee2c37",
   "metadata": {},
   "source": [
    "* ## Collections"
   ]
  },
  {
   "cell_type": "markdown",
   "id": "0e03e27b-b033-45f1-b4a6-16da4fa473b9",
   "metadata": {},
   "source": [
    "1. #### collections.Counter()"
   ]
  },
  {
   "cell_type": "code",
   "execution_count": null,
   "id": "39782cd2-fcea-4cff-ae9d-e18377fa5157",
   "metadata": {
    "tags": []
   },
   "outputs": [],
   "source": [
    "from collections import Counter\n",
    "\n",
    "X = int(input())\n",
    "sizes = list(map(int,input().split()))\n",
    "N = int(input())\n",
    "\n",
    "counter_sizes = Counter(sizes)\n",
    "money = 0\n",
    "\n",
    "for i in range(N):\n",
    "    num, pri = map(int, input().split())\n",
    "    if counter_sizes[num] > 0:\n",
    "        counter_sizes[num] -=1\n",
    "        money += pri\n",
    "        \n",
    "print(money)"
   ]
  },
  {
   "cell_type": "markdown",
   "id": "e1985f7a-272c-40fe-aa8a-60e5beab958a",
   "metadata": {},
   "source": [
    "2. #### DefaultDict Tutorial"
   ]
  },
  {
   "cell_type": "code",
   "execution_count": null,
   "id": "90b69397-8a6f-41c0-9eb9-f71c14371461",
   "metadata": {
    "tags": []
   },
   "outputs": [],
   "source": [
    "from collections import defaultdict\n",
    "\n",
    "n, m = map(int, input().split())\n",
    "d = defaultdict(list)\n",
    "i = 1\n",
    "\n",
    "for t in range(n):\n",
    "    a = input()\n",
    "    d[a].append(str(i))\n",
    "    i += 1\n",
    "\n",
    "B = [input() for e in range(m)]\n",
    "\n",
    "for elem in B:\n",
    "    if elem in d:\n",
    "        print(' '.join(d[elem]))\n",
    "    else:\n",
    "        print('-1')"
   ]
  },
  {
   "cell_type": "markdown",
   "id": "9c4677ae-a925-4dac-910e-a56107f0dd6c",
   "metadata": {
    "tags": []
   },
   "source": [
    "3. #### Collections.namedtuple()"
   ]
  },
  {
   "cell_type": "code",
   "execution_count": null,
   "id": "4b3aae00-7c3c-48b7-a4d8-51a9d78bf585",
   "metadata": {},
   "outputs": [],
   "source": [
    "from collections import namedtuple\n",
    "\n",
    "N = int(input())\n",
    "col = input().split()\n",
    "std = namedtuple('std', col)\n",
    "average = 0\n",
    "\n",
    "for i in range(N):\n",
    "    student = std._make(input().split())\n",
    "    average += int(student.MARKS)\n",
    "\n",
    "print(average/N)\n",
    "\n"
   ]
  },
  {
   "cell_type": "markdown",
   "id": "7b4d45f2-4fcd-432c-ae27-f3e30a623508",
   "metadata": {},
   "source": [
    "4. #### Collections.OrderedDict()"
   ]
  },
  {
   "cell_type": "code",
   "execution_count": null,
   "id": "22364858-5e59-45c2-93f2-6c0e0885a678",
   "metadata": {},
   "outputs": [],
   "source": [
    "from collections import OrderedDict\n",
    "\n",
    "N = int(input())\n",
    "o_d = OrderedDict()\n",
    "\n",
    "for i in range(N):\n",
    "    i_p = input().split()\n",
    "    p = int(i_p[-1])\n",
    "    it = ' '.join(i_p[:-1])\n",
    "    if it in o_d:\n",
    "        o_d[it] += p\n",
    "    else:\n",
    "        o_d[it] = p\n",
    "\n",
    "for e in o_d:\n",
    "    print(e,end=' ')\n",
    "    print(o_d[e])"
   ]
  },
  {
   "cell_type": "markdown",
   "id": "32f4a939-9aa4-4bed-b5a7-88122caf8d26",
   "metadata": {},
   "source": [
    "5. #### Word Order"
   ]
  },
  {
   "cell_type": "code",
   "execution_count": null,
   "id": "e61f5743-7db2-46c6-b12f-d45a73dbe065",
   "metadata": {},
   "outputs": [],
   "source": [
    "from collections import OrderedDict\n",
    "\n",
    "n = int(input())\n",
    "d = OrderedDict()\n",
    "count = 0\n",
    "\n",
    "for i in range(n):\n",
    "    s = input()\n",
    "    if s in d:\n",
    "        d[s] += 1\n",
    "    else:\n",
    "        d[s] = 1\n",
    "\n",
    "print(len(d))\n",
    "\n",
    "for e in d:\n",
    "    print(d[e],end=' ')"
   ]
  },
  {
   "cell_type": "markdown",
   "id": "17be5a42-39cc-47f5-8ba2-4fae338e42a7",
   "metadata": {},
   "source": [
    "6. #### Collections.deque()"
   ]
  },
  {
   "cell_type": "code",
   "execution_count": null,
   "id": "dc063d42-512c-4b1a-9490-92606ed4f283",
   "metadata": {},
   "outputs": [],
   "source": [
    "from collections import deque\n",
    "\n",
    "N = int(input())\n",
    "d = deque()\n",
    "\n",
    "for i in range(N):\n",
    "    comm = input().split()\n",
    "    if comm[0] == 'append':\n",
    "        d.append(comm[1])\n",
    "    elif comm[0] == 'pop':\n",
    "        d.pop()\n",
    "    elif comm[0] == 'appendleft':\n",
    "        d.appendleft(comm[1])\n",
    "    elif comm[0] == 'popleft':\n",
    "        d.popleft()\n",
    "        \n",
    "for e in d:\n",
    "    print(e,end=' ')"
   ]
  },
  {
   "cell_type": "markdown",
   "id": "139c19c0-061e-4435-adfd-28de48b3b937",
   "metadata": {},
   "source": [
    "7. #### Company Logo"
   ]
  },
  {
   "cell_type": "code",
   "execution_count": null,
   "id": "df5d8dc2-455f-43e8-a645-b0a7023ee77e",
   "metadata": {},
   "outputs": [],
   "source": [
    "s = input()\n",
    "s = sorted(s)\n",
    "d = {}\n",
    "\n",
    "for i in s:\n",
    "    if i in d:\n",
    "        d[i] += 1\n",
    "    else:\n",
    "        d[i] = 1\n",
    "\n",
    "\n",
    "d = sorted(d.items(), key = lambda item:item[1], reverse=True)\n",
    "\n",
    "for e in range(3):\n",
    "    print(d[e][0],end=' ')\n",
    "    print(d[e][1])"
   ]
  },
  {
   "cell_type": "markdown",
   "id": "24552ae7-05f9-4f5b-b8b1-246a076ec0ed",
   "metadata": {},
   "source": [
    "8. #### Piling Up!"
   ]
  },
  {
   "cell_type": "code",
   "execution_count": null,
   "id": "3d35fb18-cb4f-4645-be03-28adc353a66f",
   "metadata": {},
   "outputs": [],
   "source": []
  },
  {
   "cell_type": "markdown",
   "id": "982ce3c8-5875-4111-805a-267ae16561d2",
   "metadata": {},
   "source": [
    "* ## Date and Time"
   ]
  },
  {
   "cell_type": "markdown",
   "id": "b655fa6f-1262-4a7e-bc16-c9883a3925e4",
   "metadata": {},
   "source": [
    "1. #### Calendar Module"
   ]
  },
  {
   "cell_type": "code",
   "execution_count": null,
   "id": "ebb3f100-d069-40f3-8c04-04c89c5044f7",
   "metadata": {},
   "outputs": [],
   "source": [
    "import calendar\n",
    "\n",
    "date = list(map(int, input().split()))\n",
    "\n",
    "day = calendar.weekday(date[2],date[0],date[1])\n",
    "\n",
    "week_day = ['MONDAY','TUESDAY','WEDNESDAY','THURSDAY','FRIDAY','SATURDAY','SUNDAY']\n",
    "\n",
    "print(week_day[day])"
   ]
  },
  {
   "cell_type": "markdown",
   "id": "a80678c8-46f3-40c4-bcdf-632a4b501e08",
   "metadata": {},
   "source": [
    "2. #### Time Delta"
   ]
  },
  {
   "cell_type": "code",
   "execution_count": null,
   "id": "672544b6-9b57-411c-966e-84b18eb350f5",
   "metadata": {},
   "outputs": [],
   "source": []
  },
  {
   "cell_type": "markdown",
   "id": "1b699f84-7c05-4348-88f5-92a7d94ad01b",
   "metadata": {},
   "source": [
    "* ## Exceptions"
   ]
  },
  {
   "cell_type": "markdown",
   "id": "4afa06ec-9cea-4b85-b2fb-8fbbb7762e20",
   "metadata": {},
   "source": [
    "1. #### Exceptions"
   ]
  },
  {
   "cell_type": "code",
   "execution_count": null,
   "id": "cfdca0f3-3e93-415f-8c3d-95ccefd4809d",
   "metadata": {
    "tags": []
   },
   "outputs": [],
   "source": [
    "T = int(input())                #domani riprovare la submissions su hackerrank\n",
    "\n",
    "for i in range(T):\n",
    "    num = input().split()\n",
    "    \n",
    "    try:\n",
    "        print(int(num[0])//int(num[1]))\n",
    "    except ZeroDivisionError as e:\n",
    "        print('Error Code:',e)\n",
    "    except ValueError as p:\n",
    "        print('Error code:',p)"
   ]
  },
  {
   "cell_type": "markdown",
   "id": "0521c3ef-9e23-4d43-b761-f9a258b46c36",
   "metadata": {},
   "source": [
    "* ## Built-ins"
   ]
  },
  {
   "cell_type": "markdown",
   "id": "790bcc2d-ff40-4067-b64e-1ebfe9157f01",
   "metadata": {},
   "source": [
    "1. #### Zipped!"
   ]
  },
  {
   "cell_type": "code",
   "execution_count": null,
   "id": "a93dc885-57b4-45c1-8f51-91e29555308a",
   "metadata": {
    "tags": []
   },
   "outputs": [],
   "source": [
    "std, sub = input().split()\n",
    "l = []\n",
    "\n",
    "for i in range(int(sub)):\n",
    "    marks = list(map(float,input().split()))\n",
    "    l += [marks]\n",
    "    \n",
    "z_l = list(zip(*l))\n",
    "    \n",
    "\n",
    "for e in range(int(std)):\n",
    "    print(sum(z_l[e])/int(sub))\n",
    "    "
   ]
  },
  {
   "cell_type": "markdown",
   "id": "ac728183-ced4-4ad7-bcee-edbad3a01061",
   "metadata": {
    "tags": []
   },
   "source": [
    "2. #### Athlete Sort"
   ]
  },
  {
   "cell_type": "code",
   "execution_count": null,
   "id": "ad4c4aec-64ad-47cf-bc2e-921d8ec1a8d9",
   "metadata": {
    "tags": []
   },
   "outputs": [],
   "source": [
    "import math\n",
    "import os\n",
    "import random\n",
    "import re\n",
    "import sys\n",
    "\n",
    "nm = input().split()\n",
    "\n",
    "n = int(nm[0])\n",
    "\n",
    "m = int(nm[1])\n",
    "\n",
    "arr = []\n",
    "\n",
    "for _ in range(n):\n",
    "    arr.append(list(map(int, input().rstrip().split())))\n",
    "\n",
    "k = int(input())\n",
    "    \n",
    "s_array = sorted(arr, key = lambda attr: attr[k])\n",
    "\n",
    "for i in range(n):\n",
    "    print(*s_array[i])\n",
    "    "
   ]
  },
  {
   "cell_type": "markdown",
   "id": "787a983b-48cf-4dab-9d75-4282eac4dc73",
   "metadata": {},
   "source": [
    "3. #### ginortS"
   ]
  },
  {
   "cell_type": "code",
   "execution_count": null,
   "id": "4a2aa848-2abe-44cc-b5cf-e9a2815c6834",
   "metadata": {
    "tags": []
   },
   "outputs": [],
   "source": [
    "s = input()\n",
    "lower = ''\n",
    "upper = ''\n",
    "o = ''\n",
    "e = ''\n",
    "\n",
    "for i in s:\n",
    "    if i.islower():\n",
    "        lower += i\n",
    "    elif i.isupper():\n",
    "        upper += i\n",
    "    elif i.isnumeric():\n",
    "        if int(i) % 2 == 1:\n",
    "            o += i\n",
    "        else:\n",
    "            e += i\n",
    "    \n",
    "lower = ''.join(sorted(lower))\n",
    "upper = ''.join(sorted(upper))\n",
    "o = ''.join(sorted(o))\n",
    "e = ''.join(sorted(e))\n",
    "\n",
    "result = lower+upper+o+e\n",
    "\n",
    "\n",
    "print(result)\n",
    "        "
   ]
  },
  {
   "cell_type": "markdown",
   "id": "d78ea15a-2ce7-4658-869d-029b70f1e763",
   "metadata": {
    "tags": []
   },
   "source": [
    "* ## Python Functionals"
   ]
  },
  {
   "cell_type": "markdown",
   "id": "f963e33a-c440-4429-bb50-fc9cca07dc74",
   "metadata": {},
   "source": [
    "1. #### Map and Lambda Function"
   ]
  },
  {
   "cell_type": "code",
   "execution_count": null,
   "id": "45d13be4-8b5b-4cff-a056-b8649d3504ca",
   "metadata": {
    "tags": []
   },
   "outputs": [],
   "source": [
    "cube = lambda x: x**3 \n",
    "\n",
    "def fibonacci(n):\n",
    "    \n",
    "    if n == 0:\n",
    "        l = []\n",
    "        return l\n",
    "    elif n == 1:\n",
    "        l = [0]\n",
    "        return l\n",
    "    else:\n",
    "        l = [0,1]\n",
    "        \n",
    "        for i in range(2,n):\n",
    "            l.append(l[i-2]+l[i-1])\n",
    "        return l\n",
    "\n",
    "n = int(input())\n",
    "print(list(map(cube, fibonacci(n))))"
   ]
  },
  {
   "cell_type": "markdown",
   "id": "adb01c86-4049-4938-87bf-6188f9faccb8",
   "metadata": {},
   "source": [
    "* ## Regex and Parsing challenge"
   ]
  },
  {
   "cell_type": "markdown",
   "id": "deebf91b-becc-4a1a-a956-4718b70a7f71",
   "metadata": {},
   "source": [
    "1. #### Detect Floating Point Number"
   ]
  },
  {
   "cell_type": "code",
   "execution_count": null,
   "id": "105a165a-4c5a-499b-ab75-7c2244bf6ae4",
   "metadata": {},
   "outputs": [],
   "source": [
    "import re\n",
    "\n",
    "T = int(input())\n",
    "p = re.compile(r'^[+-]?[0-9]*\\.[0-9]+$')\n",
    "\n",
    "for i in range(T):\n",
    "    s = input()\n",
    "    if re.search(p, s):\n",
    "        print('True')\n",
    "    else:\n",
    "        print('False')"
   ]
  },
  {
   "cell_type": "markdown",
   "id": "71233e85-f64e-4a4d-b50a-ada9ff9b45cd",
   "metadata": {},
   "source": [
    "2. #### Re.split()"
   ]
  },
  {
   "cell_type": "code",
   "execution_count": null,
   "id": "97efed39-bd8f-4129-8989-5a46c516c54f",
   "metadata": {},
   "outputs": [],
   "source": [
    "regex_pattern = r\"[,.]\"\t\n",
    "\n",
    "import re\n",
    "print(\"\\n\".join(re.split(regex_pattern, input())))"
   ]
  },
  {
   "cell_type": "markdown",
   "id": "5cd487eb-dfa9-4761-8a3a-1c9addb316b6",
   "metadata": {},
   "source": [
    "3. #### Group(), Groups() & Groupdict()"
   ]
  },
  {
   "cell_type": "code",
   "execution_count": null,
   "id": "3bd155e4-ba2a-4a9c-996c-e2d1737e4665",
   "metadata": {
    "tags": []
   },
   "outputs": [],
   "source": [
    "import re\n",
    "\n",
    "s = input()\n",
    "p = re.compile(r'([a-zA-Z0-9])\\1')\n",
    "m = re.search(p,s)\n",
    "\n",
    "if m:\n",
    "    print(m.group(0)[0])\n",
    "else:\n",
    "    print(-1)"
   ]
  },
  {
   "cell_type": "markdown",
   "id": "eed2aa53-2eea-4686-aba5-363b2fe77043",
   "metadata": {},
   "source": [
    "4. #### Re.findall() & Re.finditer()"
   ]
  },
  {
   "cell_type": "code",
   "execution_count": null,
   "id": "54477aac-c2a2-4755-be67-f42bc7061b5d",
   "metadata": {},
   "outputs": [],
   "source": []
  },
  {
   "cell_type": "markdown",
   "id": "996ce707-eae9-461a-a80a-80add3ce53ef",
   "metadata": {},
   "source": [
    "5. #### Re.start() & Re.end()"
   ]
  },
  {
   "cell_type": "code",
   "execution_count": null,
   "id": "e2138c26-cb62-4acd-98a7-a8ae63e57dc7",
   "metadata": {},
   "outputs": [],
   "source": []
  },
  {
   "cell_type": "markdown",
   "id": "1b9dbe3a-4bf2-4caf-aefd-540f617ce948",
   "metadata": {},
   "source": [
    "6. #### Regex Substitution"
   ]
  },
  {
   "cell_type": "code",
   "execution_count": null,
   "id": "e9731710-4b24-43c5-9d2e-2b1a852a071d",
   "metadata": {},
   "outputs": [],
   "source": []
  },
  {
   "cell_type": "markdown",
   "id": "b13aac58-85a1-4431-9a06-0fa3ee8823a7",
   "metadata": {},
   "source": [
    "7. #### Validating Roman Numerals"
   ]
  },
  {
   "cell_type": "code",
   "execution_count": null,
   "id": "d0b3a976-3e18-4462-8f2a-f89689d52fee",
   "metadata": {},
   "outputs": [],
   "source": []
  },
  {
   "cell_type": "markdown",
   "id": "42689d63-d583-4c13-b4ca-4863f8d6c5bd",
   "metadata": {},
   "source": [
    "8. #### Validating phone numbers"
   ]
  },
  {
   "cell_type": "code",
   "execution_count": null,
   "id": "e72fdb80-a7ee-4a73-80bf-703ef0c82e09",
   "metadata": {},
   "outputs": [],
   "source": []
  },
  {
   "cell_type": "markdown",
   "id": "ab4eed44-3029-430f-bc5e-18b7daca587f",
   "metadata": {},
   "source": [
    "9. #### Validating and Parsing Email Addresses"
   ]
  },
  {
   "cell_type": "code",
   "execution_count": null,
   "id": "6d392c06-97a6-44b4-bda3-7b5c20fd9ceb",
   "metadata": {},
   "outputs": [],
   "source": []
  },
  {
   "cell_type": "markdown",
   "id": "53144e75-757a-49cc-84f6-14c5e0287170",
   "metadata": {},
   "source": [
    "10. #### Hex Color Code"
   ]
  },
  {
   "cell_type": "code",
   "execution_count": null,
   "id": "cc56c5ec-afad-405f-aaee-74bbe9478695",
   "metadata": {},
   "outputs": [],
   "source": []
  },
  {
   "cell_type": "markdown",
   "id": "500fe6e8-4c82-40cd-8ed1-fde727e32181",
   "metadata": {},
   "source": [
    "11. #### HTML Parser - Part 1"
   ]
  },
  {
   "cell_type": "code",
   "execution_count": null,
   "id": "07659d49-0c10-4f3d-a844-8db96cd1e300",
   "metadata": {},
   "outputs": [],
   "source": []
  },
  {
   "cell_type": "markdown",
   "id": "bcd94c2f-7027-40c7-89c8-0de801e6ff88",
   "metadata": {},
   "source": [
    "12. #### HTML Parser - Part 2"
   ]
  },
  {
   "cell_type": "code",
   "execution_count": null,
   "id": "aade6b69-4e74-4a2c-b65b-bb6337553701",
   "metadata": {},
   "outputs": [],
   "source": []
  },
  {
   "cell_type": "markdown",
   "id": "bd7f6d67-148f-4774-a258-aef7f54558e0",
   "metadata": {},
   "source": [
    "13. #### Detect HTML Tags, Attributes and Attribute Values"
   ]
  },
  {
   "cell_type": "code",
   "execution_count": null,
   "id": "c7bfbc89-e63b-4679-afe5-90876086cedd",
   "metadata": {},
   "outputs": [],
   "source": []
  },
  {
   "cell_type": "markdown",
   "id": "82ade38f-deaa-42bd-a76d-b0403534bc2e",
   "metadata": {},
   "source": [
    "14. #### Validating UID"
   ]
  },
  {
   "cell_type": "code",
   "execution_count": null,
   "id": "ec399289-cc96-41a8-bcab-4456176166a3",
   "metadata": {},
   "outputs": [],
   "source": []
  },
  {
   "cell_type": "markdown",
   "id": "8f0c861c-ba1b-4b46-9c5a-805a3b48f6e7",
   "metadata": {},
   "source": [
    "15. #### Validating Credit Cart Numbers"
   ]
  },
  {
   "cell_type": "code",
   "execution_count": null,
   "id": "0938cd10-cb56-4c86-be06-e8fbf169aa08",
   "metadata": {},
   "outputs": [],
   "source": []
  },
  {
   "cell_type": "markdown",
   "id": "07fd5c08-48e0-4b30-9fd7-d399a88f8338",
   "metadata": {},
   "source": [
    "16. #### Validating Postal Codes"
   ]
  },
  {
   "cell_type": "code",
   "execution_count": null,
   "id": "bbdb7554-0d9a-4e1e-91da-3f90ceae463d",
   "metadata": {},
   "outputs": [],
   "source": []
  },
  {
   "cell_type": "markdown",
   "id": "cbe7819b-bd82-42e3-8282-04de3d7f19e7",
   "metadata": {},
   "source": [
    "17. #### Matrix Script"
   ]
  },
  {
   "cell_type": "code",
   "execution_count": null,
   "id": "2908e9a4-0be4-4ca9-8edc-10ba7736f07c",
   "metadata": {},
   "outputs": [],
   "source": []
  },
  {
   "cell_type": "markdown",
   "id": "c793b6ad-8a35-4dc4-8527-5878182c3c8c",
   "metadata": {},
   "source": [
    "* ## XML"
   ]
  },
  {
   "cell_type": "markdown",
   "id": "4f61cb1e-b91a-4a3e-a814-36465b078731",
   "metadata": {
    "tags": []
   },
   "source": [
    "1. #### XML 1 - Find the Score"
   ]
  },
  {
   "cell_type": "code",
   "execution_count": null,
   "id": "6283fa42-8abb-47fb-bab3-16a4c0ab5df8",
   "metadata": {},
   "outputs": [],
   "source": [
    "import sys\n",
    "import xml.etree.ElementTree as etree\n",
    "\n",
    "def get_attr_number(node):\n",
    "    return sum((len(elem.attrib) for elem in node.iter()))    \n",
    "\n",
    "sys.stdin.readline()\n",
    "xml = sys.stdin.read()\n",
    "tree = etree.ElementTree(etree.fromstring(xml))\n",
    "root = tree.getroot()\n",
    "print(get_attr_number(root))"
   ]
  },
  {
   "cell_type": "markdown",
   "id": "40b04289-8032-490b-9866-9839d29fadd1",
   "metadata": {},
   "source": [
    "2. #### XML 2 - Find the Maximum Depth"
   ]
  },
  {
   "cell_type": "code",
   "execution_count": null,
   "id": "59270587-8aac-44a2-be66-2932971dc6af",
   "metadata": {},
   "outputs": [],
   "source": [
    "import xml.etree.ElementTree as etree\n",
    "\n",
    "maxdepth = 0\n",
    "\n",
    "def depth(elem, level):\n",
    "    global maxdepth\n",
    "    el = list(elem.iter())\n",
    "    if len(el) == 1:\n",
    "        if maxdepth <= level + 1:\n",
    "            maxdepth = level + 1\n",
    "    else:\n",
    "        for i in range(1, len(el)):\n",
    "            depth(el[i], level+1)\n",
    "\n",
    "n = int(input())\n",
    "xml = \"\"\n",
    "for i in range(n):\n",
    "    xml =  xml + input() + \"\\n\"\n",
    "tree = etree.ElementTree(etree.fromstring(xml))\n",
    "depth(tree.getroot(), -1)\n",
    "print(maxdepth)"
   ]
  },
  {
   "cell_type": "markdown",
   "id": "ecc68d55-efb8-4ec0-b3f3-e79712cab08c",
   "metadata": {},
   "source": [
    "* ## Closures and Decorations"
   ]
  },
  {
   "cell_type": "markdown",
   "id": "ccbbea98-e278-4337-9dd8-57db313a20f5",
   "metadata": {},
   "source": [
    "1. #### Standardize Mobile Number Using Decorators"
   ]
  },
  {
   "cell_type": "code",
   "execution_count": null,
   "id": "466f3a65-d4f3-48c4-a9bf-e4ef741fb91a",
   "metadata": {},
   "outputs": [],
   "source": []
  },
  {
   "cell_type": "markdown",
   "id": "5c4d0a19-aef7-4b56-81af-984e7f64e8a2",
   "metadata": {},
   "source": [
    "2. #### Decorators 2 - Name Directory"
   ]
  },
  {
   "cell_type": "code",
   "execution_count": null,
   "id": "19c6dd07-c726-4a22-b1b9-0d5693924439",
   "metadata": {},
   "outputs": [],
   "source": []
  },
  {
   "cell_type": "markdown",
   "id": "d9915a79-7e6d-4f4c-8881-02bc5f8e6678",
   "metadata": {},
   "source": [
    "* ## Numpy"
   ]
  },
  {
   "cell_type": "markdown",
   "id": "f42ac9fd-8e11-4407-8912-77884f2689fb",
   "metadata": {},
   "source": [
    "1. #### Arrays"
   ]
  },
  {
   "cell_type": "code",
   "execution_count": null,
   "id": "466498bc-ff21-42ba-a5f9-81aac24e5469",
   "metadata": {
    "tags": []
   },
   "outputs": [],
   "source": [
    "import numpy\n",
    "\n",
    "def arrays(arr):\n",
    "    n_arr = numpy.array(list([*reversed(arr)]),float)\n",
    "    return n_arr\n",
    "\n",
    "arr = input().strip().split(' ')\n",
    "result = arrays(arr)\n",
    "print(result)"
   ]
  },
  {
   "cell_type": "markdown",
   "id": "893501f5-b66f-42a1-8e54-bad6d15d5896",
   "metadata": {},
   "source": [
    "2. #### Shape and Reshape"
   ]
  },
  {
   "cell_type": "code",
   "execution_count": null,
   "id": "d668f67d-e8e8-48c3-a178-b5845a8f4f4a",
   "metadata": {},
   "outputs": [],
   "source": [
    "import numpy\n",
    "\n",
    "arr = numpy.array(list(map(int, input().split())))\n",
    "\n",
    "arr_3 = numpy.reshape(arr,(3,3))\n",
    "\n",
    "print(arr_3)"
   ]
  },
  {
   "cell_type": "markdown",
   "id": "8e874ead-ff33-49de-aea5-5c8611e69ade",
   "metadata": {},
   "source": [
    "3. #### Transpose and Flatten"
   ]
  },
  {
   "cell_type": "code",
   "execution_count": null,
   "id": "5ff148e0-3e9a-4999-a88c-846fac43b438",
   "metadata": {},
   "outputs": [],
   "source": [
    "import numpy\n",
    "\n",
    "N, M = input().split()\n",
    "l = []\n",
    "\n",
    "for i in range(int(N)):\n",
    "    col = list(map(int, input().split()))\n",
    "    l.append(col)\n",
    "\n",
    "n_l = numpy.array(l)\n",
    "\n",
    "print(numpy.transpose(n_l))\n",
    "print(n_l.flatten())  "
   ]
  },
  {
   "cell_type": "markdown",
   "id": "2b4d8988-2142-40a7-8f84-03cb7d72db42",
   "metadata": {},
   "source": [
    "4. #### Concatenate"
   ]
  },
  {
   "cell_type": "code",
   "execution_count": null,
   "id": "9981445a-226e-4170-b506-dc9b1ecfdaab",
   "metadata": {},
   "outputs": [],
   "source": [
    "import numpy\n",
    "\n",
    "N,M,P = input().split()\n",
    "\n",
    "l_n = []\n",
    "l_m = []\n",
    "\n",
    "for i in range(int(N)):\n",
    "    col_n = list(map(int, input().split()))\n",
    "    l_n.append(col_n)\n",
    "\n",
    "n_arr = numpy.array(l_n)\n",
    "\n",
    "for e in range(int(M)):\n",
    "    col_m = list(map(int, input().split()))\n",
    "    l_m.append(col_m)\n",
    "\n",
    "m_arr = numpy.array(l_m)\n",
    "\n",
    "print(numpy.concatenate((n_arr,m_arr), axis = 0))"
   ]
  },
  {
   "cell_type": "markdown",
   "id": "6d8130d7-56b1-41d6-83e8-e7e629cdbafc",
   "metadata": {},
   "source": [
    "5. #### Zeros and Ones"
   ]
  },
  {
   "cell_type": "code",
   "execution_count": null,
   "id": "a5475087-e592-4b64-8394-ce4172a705a5",
   "metadata": {
    "tags": []
   },
   "outputs": [],
   "source": [
    "import numpy\n",
    "\n",
    "s = tuple(map(int, input().split()))\n",
    "\n",
    "print(numpy.zeros(s, dtype = int))\n",
    "print(numpy.ones(s, dtype = int))"
   ]
  },
  {
   "cell_type": "markdown",
   "id": "457f0f4c-cf79-4063-aa0a-a168b3dbb9d4",
   "metadata": {},
   "source": [
    "6. #### Eye and Identity"
   ]
  },
  {
   "cell_type": "code",
   "execution_count": null,
   "id": "1645c833-72bb-4ef7-bdc7-1499ee5a810b",
   "metadata": {},
   "outputs": [],
   "source": [
    "import numpy\n",
    "\n",
    "numpy.set_printoptions(legacy='1.13')\n",
    "\n",
    "N, M = input().split()\n",
    "\n",
    "print(numpy.eye(int(N),int(M),k = 0))"
   ]
  },
  {
   "cell_type": "markdown",
   "id": "ce81d899-5bd9-4f14-9e50-2ce33873addb",
   "metadata": {},
   "source": [
    "7. #### Array Mathematics"
   ]
  },
  {
   "cell_type": "code",
   "execution_count": null,
   "id": "819a393f-0af6-45f9-b84a-8bc824f5fa42",
   "metadata": {
    "tags": []
   },
   "outputs": [],
   "source": [
    "import numpy\n",
    "\n",
    "N, M = input().split()\n",
    "\n",
    "A = numpy.array([input().split() for i in range(int(N))], int)\n",
    "B = numpy.array([input().split() for i in range(int(N))], int)\n",
    "\n",
    "print(A+B)\n",
    "print(A-B)\n",
    "print(A*B)\n",
    "print(A//B)\n",
    "print(A%B)\n",
    "print(A**B)"
   ]
  },
  {
   "cell_type": "markdown",
   "id": "ff920287-8d17-4161-bfc8-20ac22998f0e",
   "metadata": {},
   "source": [
    "8. #### Floor, Ceil and Rint"
   ]
  },
  {
   "cell_type": "code",
   "execution_count": null,
   "id": "47d91275-1901-46c3-988f-8c90a625a3ca",
   "metadata": {},
   "outputs": [],
   "source": [
    "import numpy\n",
    "\n",
    "numpy.set_printoptions(legacy='1.13')\n",
    "\n",
    "A = numpy.array(input().split(),float)\n",
    "\n",
    "print(numpy.floor(A))\n",
    "print(numpy.ceil(A))\n",
    "print(numpy.rint(A))"
   ]
  },
  {
   "cell_type": "markdown",
   "id": "eb8da994-32fb-4a25-8c61-61f966db6192",
   "metadata": {},
   "source": [
    "9. #### Sum and Prod"
   ]
  },
  {
   "cell_type": "code",
   "execution_count": null,
   "id": "03c423fe-041a-42a5-b361-b9b7d38b8bdd",
   "metadata": {},
   "outputs": [],
   "source": [
    "import numpy\n",
    "\n",
    "N, M = input().split()\n",
    "\n",
    "A = numpy.array([input().split() for i in range(int(N))], int)\n",
    "\n",
    "s_A = numpy.sum(A, axis = 0)\n",
    "p_A = numpy.prod(s_A)\n",
    "\n",
    "print(p_A)"
   ]
  },
  {
   "cell_type": "markdown",
   "id": "fe669c54-05cd-4770-a9e8-aa92029c63c3",
   "metadata": {},
   "source": [
    "10. #### Min and Max"
   ]
  },
  {
   "cell_type": "code",
   "execution_count": null,
   "id": "b6d395b8-1d54-4ede-a660-17b03e43103d",
   "metadata": {},
   "outputs": [],
   "source": [
    "import numpy\n",
    "\n",
    "N, M = input().split()\n",
    "\n",
    "A = numpy.array([input().split() for i in range(int(N))], int)\n",
    "\n",
    "min_A = numpy.min(A, axis = 1)\n",
    "print(numpy.max(min_A))"
   ]
  },
  {
   "cell_type": "markdown",
   "id": "fd60959b-a5c9-458c-b165-c551cfcc0e0d",
   "metadata": {},
   "source": [
    "11. #### Min, Var and Std"
   ]
  },
  {
   "cell_type": "code",
   "execution_count": null,
   "id": "e4344cfa-5368-48d1-8457-7998aa59fffb",
   "metadata": {},
   "outputs": [],
   "source": [
    "import numpy\n",
    "\n",
    "N, M = input().split()\n",
    "\n",
    "A = numpy.array([input().split() for i in range(int(N))], int)\n",
    "print(numpy.mean(A, axis = 1))\n",
    "print(numpy.var(A, axis = 0))\n",
    "print(round(numpy.std(A),11))"
   ]
  },
  {
   "cell_type": "markdown",
   "id": "0ea7a711-9d97-4137-b6cd-d4bfffbec32c",
   "metadata": {},
   "source": [
    "12. #### Dot and Cross"
   ]
  },
  {
   "cell_type": "code",
   "execution_count": null,
   "id": "aab79da5-56d9-4259-9ee1-5ed9415975e3",
   "metadata": {},
   "outputs": [],
   "source": [
    "import numpy\n",
    "\n",
    "N = int(input())\n",
    "A = numpy.array([input().split() for i in range(N)], int)\n",
    "B = numpy.array([input().split() for i in range(N)], int)\n",
    "\n",
    "print(numpy.dot(A,B))"
   ]
  },
  {
   "cell_type": "markdown",
   "id": "92aa3600-fb8f-4ed9-81b8-fe6ea02239a1",
   "metadata": {},
   "source": [
    "13. #### Inner and Outer"
   ]
  },
  {
   "cell_type": "code",
   "execution_count": null,
   "id": "3702af92-66a9-4409-9167-9852b0319970",
   "metadata": {},
   "outputs": [],
   "source": [
    "import numpy\n",
    "\n",
    "\n",
    "\n",
    "A = numpy.array(input().split(), int)\n",
    "B = numpy.array(input().split(), int)\n",
    "\n",
    "print(numpy.inner(A, B))\n",
    "print(numpy.outer(A, B))"
   ]
  },
  {
   "cell_type": "markdown",
   "id": "38875fa1-376c-46b9-a4f6-36c23dd6cc61",
   "metadata": {},
   "source": [
    "14. #### Polynomials"
   ]
  },
  {
   "cell_type": "code",
   "execution_count": null,
   "id": "3b5851b9-ea42-4545-9dc2-429bb198ecd4",
   "metadata": {},
   "outputs": [],
   "source": [
    "import numpy\n",
    "\n",
    "P = numpy.array(input().split(),float)\n",
    "x = float(input())\n",
    "\n",
    "print(numpy.polyval(P, x))"
   ]
  },
  {
   "cell_type": "markdown",
   "id": "1a8acd80-6b13-4809-ace6-e772c0e573e7",
   "metadata": {},
   "source": [
    "15. #### Linear Algebra"
   ]
  },
  {
   "cell_type": "code",
   "execution_count": null,
   "id": "7d5d135f-a3ec-4b3d-a01f-87ef3995a01b",
   "metadata": {},
   "outputs": [],
   "source": [
    "import numpy\n",
    "\n",
    "N = int(input())\n",
    "A = numpy.array([input().split() for i in range(N)], float)\n",
    "\n",
    "print(round(numpy.linalg.det(A),2))"
   ]
  }
 ],
 "metadata": {
  "kernelspec": {
   "display_name": "Python 3 (ipykernel)",
   "language": "python",
   "name": "python3"
  },
  "language_info": {
   "codemirror_mode": {
    "name": "ipython",
    "version": 3
   },
   "file_extension": ".py",
   "mimetype": "text/x-python",
   "name": "python",
   "nbconvert_exporter": "python",
   "pygments_lexer": "ipython3",
   "version": "3.9.18"
  }
 },
 "nbformat": 4,
 "nbformat_minor": 5
}
